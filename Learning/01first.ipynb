{
 "cells": [
  {
   "cell_type": "code",
   "execution_count": null,
   "id": "2a20f772-4da7-498d-a99a-7b7f767d21d4",
   "metadata": {},
   "outputs": [],
   "source": [
    "# 1. write code by your self\n",
    "# 2. practice by yourself"
   ]
  },
  {
   "cell_type": "code",
   "execution_count": 1,
   "id": "b59a4591-dc12-4fb8-b691-f84eea4d0314",
   "metadata": {},
   "outputs": [
    {
     "name": "stdout",
     "output_type": "stream",
     "text": [
      "hello world\n"
     ]
    }
   ],
   "source": [
    "print(\"hello world\")"
   ]
  },
  {
   "cell_type": "code",
   "execution_count": 2,
   "id": "d914ea71-78d1-4a32-ac97-034800c7abfa",
   "metadata": {},
   "outputs": [],
   "source": [
    "sam = \"Tony Stark\""
   ]
  },
  {
   "cell_type": "code",
   "execution_count": 3,
   "id": "b2dde89b-62ad-42fd-9249-46b94c74adff",
   "metadata": {},
   "outputs": [
    {
     "name": "stdout",
     "output_type": "stream",
     "text": [
      "T\n"
     ]
    }
   ],
   "source": [
    "print(sam[0])"
   ]
  },
  {
   "cell_type": "code",
   "execution_count": 4,
   "id": "b7561cca-c0d5-4f3c-a1fb-0da677a093a5",
   "metadata": {},
   "outputs": [
    {
     "name": "stdout",
     "output_type": "stream",
     "text": [
      "k\n"
     ]
    }
   ],
   "source": [
    "print(sam[-1])"
   ]
  },
  {
   "cell_type": "code",
   "execution_count": 6,
   "id": "be2d701d-f8ea-4f92-bce1-0026c3b572ae",
   "metadata": {},
   "outputs": [
    {
     "name": "stdout",
     "output_type": "stream",
     "text": [
      "Tony S\n"
     ]
    }
   ],
   "source": [
    "## Slicing\n",
    "print(sam[0:6])"
   ]
  },
  {
   "cell_type": "code",
   "execution_count": 10,
   "id": "e0a99ab1-7eac-44a9-9e35-0e5a4d162e75",
   "metadata": {},
   "outputs": [
    {
     "name": "stdout",
     "output_type": "stream",
     "text": [
      " Star\n"
     ]
    }
   ],
   "source": [
    "print(sam[-6:-1])"
   ]
  },
  {
   "cell_type": "code",
   "execution_count": 15,
   "id": "8640fd62-0a0a-4fef-baa4-2ce816b331ae",
   "metadata": {},
   "outputs": [
    {
     "name": "stdout",
     "output_type": "stream",
     "text": [
      "Tony\n"
     ]
    }
   ],
   "source": [
    "print(sam[-10:-6])"
   ]
  },
  {
   "cell_type": "code",
   "execution_count": 11,
   "id": "c2821a32-0a21-4b3c-9c53-8c88972261b4",
   "metadata": {},
   "outputs": [
    {
     "name": "stdout",
     "output_type": "stream",
     "text": [
      "riorio\n"
     ]
    }
   ],
   "source": [
    "print(\"rio\" * 2)"
   ]
  },
  {
   "cell_type": "code",
   "execution_count": 13,
   "id": "d215bafc-0271-46a1-b7a0-d5f0edca032f",
   "metadata": {},
   "outputs": [
    {
     "name": "stdout",
     "output_type": "stream",
     "text": [
      "rio dan\n"
     ]
    }
   ],
   "source": [
    "## concatination\n",
    "a = \"rio\"\n",
    "b = \"dan\"\n",
    "print(a + \" \" + b)"
   ]
  },
  {
   "cell_type": "code",
   "execution_count": 10,
   "id": "e294a542-406b-4282-82da-bc5327f09fe6",
   "metadata": {},
   "outputs": [],
   "source": [
    "## List \n",
    "my_list = [1,2,'sam',[4,5,6],'rio',2.3,'S','w']"
   ]
  },
  {
   "cell_type": "code",
   "execution_count": 11,
   "id": "b18295f3-cf4c-487a-ab21-ce13c90b0f49",
   "metadata": {},
   "outputs": [
    {
     "name": "stdout",
     "output_type": "stream",
     "text": [
      "[1, 2, 'sam', [4, 5, 6], 'rio', 2.3, 'S', 'w']\n"
     ]
    }
   ],
   "source": [
    "print(my_list)"
   ]
  },
  {
   "cell_type": "code",
   "execution_count": 12,
   "id": "9cad2a21-7c15-4bc7-bce6-fbce31eee724",
   "metadata": {},
   "outputs": [
    {
     "data": {
      "text/plain": [
       "[4, 5, 6]"
      ]
     },
     "execution_count": 12,
     "metadata": {},
     "output_type": "execute_result"
    }
   ],
   "source": [
    "my_list[3]"
   ]
  },
  {
   "cell_type": "code",
   "execution_count": 13,
   "id": "bc9a4496-4c52-41ca-bfe9-3c5f68c3f45d",
   "metadata": {},
   "outputs": [
    {
     "data": {
      "text/plain": [
       "'S'"
      ]
     },
     "execution_count": 13,
     "metadata": {},
     "output_type": "execute_result"
    }
   ],
   "source": [
    "my_list[6]"
   ]
  },
  {
   "cell_type": "code",
   "execution_count": 14,
   "id": "676e4899-5590-4e82-866a-09e90d0b6e63",
   "metadata": {},
   "outputs": [
    {
     "data": {
      "text/plain": [
       "[4, 5, 6]"
      ]
     },
     "execution_count": 14,
     "metadata": {},
     "output_type": "execute_result"
    }
   ],
   "source": [
    "my_list[3]"
   ]
  },
  {
   "cell_type": "code",
   "execution_count": 15,
   "id": "f3b1d72a-0b2e-4e0e-a743-0f7fc263bf85",
   "metadata": {},
   "outputs": [],
   "source": [
    "## add at last\n",
    "my_list.append('six')"
   ]
  },
  {
   "cell_type": "code",
   "execution_count": 16,
   "id": "6150d799-3d30-40d6-bc9f-2c37739812e4",
   "metadata": {},
   "outputs": [
    {
     "data": {
      "text/plain": [
       "[1, 2, 'sam', [4, 5, 6], 'rio', 2.3, 'S', 'w', 'six']"
      ]
     },
     "execution_count": 16,
     "metadata": {},
     "output_type": "execute_result"
    }
   ],
   "source": [
    "my_list"
   ]
  },
  {
   "cell_type": "code",
   "execution_count": 17,
   "id": "89743521-2b3c-4142-89f4-92cebdd5f4fe",
   "metadata": {},
   "outputs": [],
   "source": [
    "## extend function\n",
    "my_list.extend([8,9,6])"
   ]
  },
  {
   "cell_type": "code",
   "execution_count": 18,
   "id": "87acdb85-6fd6-4ddd-a1d0-f9fc051f161c",
   "metadata": {},
   "outputs": [
    {
     "data": {
      "text/plain": [
       "[1, 2, 'sam', [4, 5, 6], 'rio', 2.3, 'S', 'w', 'six', 8, 9, 6]"
      ]
     },
     "execution_count": 18,
     "metadata": {},
     "output_type": "execute_result"
    }
   ],
   "source": [
    "my_list"
   ]
  },
  {
   "cell_type": "code",
   "execution_count": 20,
   "id": "62b29e64-48cb-4f51-ad1a-f1c226058d78",
   "metadata": {},
   "outputs": [],
   "source": [
    "l = list(range(10))"
   ]
  },
  {
   "cell_type": "code",
   "execution_count": 21,
   "id": "19ff856f-6e94-4a43-8cd4-3db1a475b0f4",
   "metadata": {},
   "outputs": [
    {
     "data": {
      "text/plain": [
       "[0, 1, 2, 3, 4, 5, 6, 7, 8, 9]"
      ]
     },
     "execution_count": 21,
     "metadata": {},
     "output_type": "execute_result"
    }
   ],
   "source": [
    "l"
   ]
  },
  {
   "cell_type": "code",
   "execution_count": 22,
   "id": "969ffabb-284f-459d-b2f9-c3943dc78b3f",
   "metadata": {},
   "outputs": [
    {
     "data": {
      "text/plain": [
       "['sam', [4, 5, 6], 'rio', 2.3]"
      ]
     },
     "execution_count": 22,
     "metadata": {},
     "output_type": "execute_result"
    }
   ],
   "source": [
    "my_list[2:6]"
   ]
  },
  {
   "cell_type": "code",
   "execution_count": 25,
   "id": "3ace68ec-9dbb-4839-80c4-e5743617f1b2",
   "metadata": {},
   "outputs": [
    {
     "data": {
      "text/plain": [
       "['S', 'w', 'six', 8, 9]"
      ]
     },
     "execution_count": 25,
     "metadata": {},
     "output_type": "execute_result"
    }
   ],
   "source": [
    "my_list[-6:-1]"
   ]
  },
  {
   "cell_type": "code",
   "execution_count": 26,
   "id": "76bf3d49-597e-46e9-8b3b-ebfae0570746",
   "metadata": {},
   "outputs": [
    {
     "data": {
      "text/plain": [
       "[1, 'sam', 'rio', 'S']"
      ]
     },
     "execution_count": 26,
     "metadata": {},
     "output_type": "execute_result"
    }
   ],
   "source": [
    "my_list[0:7:2]"
   ]
  },
  {
   "cell_type": "code",
   "execution_count": 27,
   "id": "14be3be5-8060-4a19-a26a-2181fac1d9f1",
   "metadata": {},
   "outputs": [],
   "source": [
    "## Dictionary"
   ]
  },
  {
   "cell_type": "code",
   "execution_count": 28,
   "id": "0d84be78-9d41-4632-8c12-a342d39b2011",
   "metadata": {},
   "outputs": [],
   "source": [
    "my_dict = {'key1':'value1', 'key2':'value2', 'key3':'value3'}"
   ]
  },
  {
   "cell_type": "code",
   "execution_count": 83,
   "id": "9d37ed8a-f7f6-44de-8e97-646e816bfa19",
   "metadata": {},
   "outputs": [
    {
     "data": {
      "text/plain": [
       "{'key1': '123', 'key2': 'value2', 'key3': 'value3', 'key4': 'value4'}"
      ]
     },
     "execution_count": 83,
     "metadata": {},
     "output_type": "execute_result"
    }
   ],
   "source": [
    "my_dict "
   ]
  },
  {
   "cell_type": "code",
   "execution_count": 84,
   "id": "e2a9890b-1f69-474f-87d1-05832307a0af",
   "metadata": {},
   "outputs": [
    {
     "name": "stdout",
     "output_type": "stream",
     "text": [
      "key1\n",
      "key2\n",
      "key3\n",
      "key4\n"
     ]
    }
   ],
   "source": [
    "for x in my_dict:\n",
    "    print(x)"
   ]
  },
  {
   "cell_type": "code",
   "execution_count": 32,
   "id": "cf633119-7e81-40da-ae9c-35cb6c8c71b7",
   "metadata": {},
   "outputs": [],
   "source": [
    "my_dict['key1'] = '123'"
   ]
  },
  {
   "cell_type": "code",
   "execution_count": 33,
   "id": "547bb3ab-f00a-4eed-bf38-6e80060144ea",
   "metadata": {},
   "outputs": [
    {
     "data": {
      "text/plain": [
       "{'key1': '123', 'key2': 'value2', 'key3': 'value3'}"
      ]
     },
     "execution_count": 33,
     "metadata": {},
     "output_type": "execute_result"
    }
   ],
   "source": [
    "my_dict "
   ]
  },
  {
   "cell_type": "code",
   "execution_count": 35,
   "id": "688d6285-55fe-4107-9b69-7565fe838cad",
   "metadata": {},
   "outputs": [
    {
     "data": {
      "text/plain": [
       "{'key1': '123', 'key2': 'value2', 'key3': 'value3', 'key4': 'value4'}"
      ]
     },
     "execution_count": 35,
     "metadata": {},
     "output_type": "execute_result"
    }
   ],
   "source": [
    "my_dict['key4']='value4'\n",
    "my_dict"
   ]
  },
  {
   "cell_type": "code",
   "execution_count": 37,
   "id": "1df32f54-c036-44b4-bc94-75ab08ece8f3",
   "metadata": {},
   "outputs": [
    {
     "data": {
      "text/plain": [
       "{'name': ['rio', 'jac', 'sanu'],\n",
       " 'surname': ['sang', 'sparrow', 'sen'],\n",
       " 'age': [18, 21, 24]}"
      ]
     },
     "execution_count": 37,
     "metadata": {},
     "output_type": "execute_result"
    }
   ],
   "source": [
    "dict = {'name':[\"rio\", \"jac\", \"sanu\"], 'surname':[\"sang\", \"sparrow\", \"sen\"], 'age':[18, 21, 24]}\n",
    "dict"
   ]
  },
  {
   "cell_type": "code",
   "execution_count": 39,
   "id": "8a9337fd-0b73-4913-96e5-a9231b763c4b",
   "metadata": {},
   "outputs": [
    {
     "data": {
      "text/plain": [
       "['sang', 'sparrow', 'sen']"
      ]
     },
     "execution_count": 39,
     "metadata": {},
     "output_type": "execute_result"
    }
   ],
   "source": [
    "dict['surname']"
   ]
  },
  {
   "cell_type": "code",
   "execution_count": 40,
   "id": "917f6b72-23b6-4fd3-9783-f68b6a6896b4",
   "metadata": {},
   "outputs": [],
   "source": [
    "d = {}"
   ]
  },
  {
   "cell_type": "code",
   "execution_count": 42,
   "id": "8bd5c546-92b4-44c6-b87c-4b9a8636cf3a",
   "metadata": {},
   "outputs": [],
   "source": [
    "d['name'] = \"doggy\""
   ]
  },
  {
   "cell_type": "code",
   "execution_count": 43,
   "id": "613927dc-73ea-4b8e-8179-b85d26742652",
   "metadata": {},
   "outputs": [
    {
     "data": {
      "text/plain": [
       "{'name': 'doggy'}"
      ]
     },
     "execution_count": 43,
     "metadata": {},
     "output_type": "execute_result"
    }
   ],
   "source": [
    "d"
   ]
  },
  {
   "cell_type": "code",
   "execution_count": 44,
   "id": "c02ce658-7f30-4222-9341-a857dfe68e40",
   "metadata": {},
   "outputs": [],
   "source": [
    "## set"
   ]
  },
  {
   "cell_type": "code",
   "execution_count": 68,
   "id": "bebd6072-93a9-4df9-bf5c-d6e6eefefd60",
   "metadata": {},
   "outputs": [],
   "source": [
    "set1 = {1,1,1,1,2,2,2,3,3,3,3,}"
   ]
  },
  {
   "cell_type": "code",
   "execution_count": 69,
   "id": "9c7e853b-64e9-4f1a-b7f1-db356376fdf2",
   "metadata": {},
   "outputs": [
    {
     "data": {
      "text/plain": [
       "{1, 2, 3}"
      ]
     },
     "execution_count": 69,
     "metadata": {},
     "output_type": "execute_result"
    }
   ],
   "source": [
    "set1"
   ]
  },
  {
   "cell_type": "code",
   "execution_count": 70,
   "id": "be8c3fab-2ae6-4b15-9bdc-14013eb522e5",
   "metadata": {},
   "outputs": [],
   "source": [
    "set1.add(4)"
   ]
  },
  {
   "cell_type": "code",
   "execution_count": 71,
   "id": "02cbacf8-21c8-442f-8f84-e2803e9bc6e6",
   "metadata": {},
   "outputs": [
    {
     "data": {
      "text/plain": [
       "{1, 2, 3, 4}"
      ]
     },
     "execution_count": 71,
     "metadata": {},
     "output_type": "execute_result"
    }
   ],
   "source": [
    "set1"
   ]
  },
  {
   "cell_type": "code",
   "execution_count": 72,
   "id": "e2dc5d60-3e90-4a78-b268-d5b86522e9a2",
   "metadata": {},
   "outputs": [
    {
     "data": {
      "text/plain": [
       "{1, 2, 3, 4, 32}"
      ]
     },
     "execution_count": 72,
     "metadata": {},
     "output_type": "execute_result"
    }
   ],
   "source": [
    "set1.add(32)\n",
    "set1"
   ]
  },
  {
   "cell_type": "code",
   "execution_count": 74,
   "id": "e11aac50-d33d-461e-b7e4-7f802499f8e9",
   "metadata": {},
   "outputs": [],
   "source": [
    "ln = [1,1,1,2,2,2,2,3,3,3,3,4,4,4,5,5,5,5,6,6]"
   ]
  },
  {
   "cell_type": "code",
   "execution_count": 75,
   "id": "e4307659-3985-417d-969d-ff44ae974ffd",
   "metadata": {},
   "outputs": [
    {
     "data": {
      "text/plain": [
       "[1, 1, 1, 2, 2, 2, 2, 3, 3, 3, 3, 4, 4, 4, 5, 5, 5, 5, 6, 6]"
      ]
     },
     "execution_count": 75,
     "metadata": {},
     "output_type": "execute_result"
    }
   ],
   "source": [
    "ln"
   ]
  },
  {
   "cell_type": "code",
   "execution_count": 76,
   "id": "94b1f427-a9e3-40b5-8d3f-211d22b0702b",
   "metadata": {},
   "outputs": [
    {
     "ename": "TypeError",
     "evalue": "'set' object is not callable",
     "output_type": "error",
     "traceback": [
      "\u001b[1;31m---------------------------------------------------------------------------\u001b[0m",
      "\u001b[1;31mTypeError\u001b[0m                                 Traceback (most recent call last)",
      "Cell \u001b[1;32mIn[76], line 1\u001b[0m\n\u001b[1;32m----> 1\u001b[0m \u001b[38;5;28;43mset\u001b[39;49m\u001b[43m(\u001b[49m\u001b[43mln\u001b[49m\u001b[43m)\u001b[49m\n",
      "\u001b[1;31mTypeError\u001b[0m: 'set' object is not callable"
     ]
    }
   ],
   "source": [
    "set(ln)"
   ]
  },
  {
   "cell_type": "code",
   "execution_count": 77,
   "id": "704a09c0-f531-4a93-98d4-b615175216cc",
   "metadata": {},
   "outputs": [],
   "source": [
    "## tuple"
   ]
  },
  {
   "cell_type": "code",
   "execution_count": 78,
   "id": "6a99ffb9-8712-46c4-9dde-3c583b845e70",
   "metadata": {},
   "outputs": [
    {
     "data": {
      "text/plain": [
       "('rio', 23, 'sinu')"
      ]
     },
     "execution_count": 78,
     "metadata": {},
     "output_type": "execute_result"
    }
   ],
   "source": [
    "thistuple = ('rio', 23, 'sinu')\n",
    "thistuple"
   ]
  },
  {
   "cell_type": "code",
   "execution_count": 79,
   "id": "c41d9bc8-17c3-4e3b-babc-017733885168",
   "metadata": {},
   "outputs": [
    {
     "data": {
      "text/plain": [
       "'rio'"
      ]
     },
     "execution_count": 79,
     "metadata": {},
     "output_type": "execute_result"
    }
   ],
   "source": [
    "thistuple[0]"
   ]
  },
  {
   "cell_type": "code",
   "execution_count": 81,
   "id": "bd4856a4-737b-49bb-bd64-3a9753d080ee",
   "metadata": {},
   "outputs": [],
   "source": [
    "thistuple = (\"asu\", \"chnu\")"
   ]
  },
  {
   "cell_type": "code",
   "execution_count": 82,
   "id": "4756f944-5a29-473b-bfe5-6f87a62423d9",
   "metadata": {},
   "outputs": [
    {
     "data": {
      "text/plain": [
       "('asu', 'chnu')"
      ]
     },
     "execution_count": 82,
     "metadata": {},
     "output_type": "execute_result"
    }
   ],
   "source": [
    "thistuple"
   ]
  },
  {
   "cell_type": "code",
   "execution_count": 85,
   "id": "750931d2-7ff4-47f6-9c1f-e67e7d1ef094",
   "metadata": {},
   "outputs": [],
   "source": [
    "## loops"
   ]
  },
  {
   "cell_type": "code",
   "execution_count": 86,
   "id": "eb46d59b-1d7c-41fa-a194-84c484a7b83f",
   "metadata": {},
   "outputs": [
    {
     "name": "stdout",
     "output_type": "stream",
     "text": [
      "Hello Darshil\n",
      "Hello Darshil\n",
      "Hello Darshil\n",
      "Hello Darshil\n",
      "Hello Darshil\n",
      "Hello Darshil\n",
      "Hello Darshil\n",
      "Hello Darshil\n",
      "Hello Darshil\n",
      "Hello Darshil\n"
     ]
    }
   ],
   "source": [
    "## in for loop we cannot give condition\n",
    "for i in range(10):\n",
    "    print(\"Hello Darshil\")"
   ]
  },
  {
   "cell_type": "code",
   "execution_count": 87,
   "id": "1658d9d0-44be-4122-9fdb-e8946cd5c639",
   "metadata": {},
   "outputs": [
    {
     "data": {
      "text/plain": [
       "[0, 1, 2, 3, 4, 5, 6, 7, 8, 9]"
      ]
     },
     "execution_count": 87,
     "metadata": {},
     "output_type": "execute_result"
    }
   ],
   "source": [
    "list(range(10))"
   ]
  },
  {
   "cell_type": "code",
   "execution_count": 90,
   "id": "b818b897-c28a-4827-8d20-073d67f004cc",
   "metadata": {},
   "outputs": [
    {
     "name": "stdout",
     "output_type": "stream",
     "text": [
      "0\n",
      "1\n",
      "2\n",
      "3\n",
      "4\n",
      "5\n",
      "6\n",
      "7\n",
      "8\n",
      "9\n"
     ]
    }
   ],
   "source": [
    "for i in range(10):\n",
    "    print(i)"
   ]
  },
  {
   "cell_type": "code",
   "execution_count": 91,
   "id": "30d5eccd-d8f9-4bcf-adc0-d9187c206e5b",
   "metadata": {},
   "outputs": [],
   "source": [
    "users = list(range(10))"
   ]
  },
  {
   "cell_type": "code",
   "execution_count": 92,
   "id": "0d6e3524-376d-4d4a-aa50-9b40bab3f437",
   "metadata": {},
   "outputs": [
    {
     "name": "stdout",
     "output_type": "stream",
     "text": [
      "This is 0  user\n",
      "This is 1  user\n",
      "This is 2  user\n",
      "This is 3  user\n",
      "This is 4  user\n",
      "This is 5  user\n",
      "This is 6  user\n",
      "This is 7  user\n",
      "This is 8  user\n",
      "This is 9  user\n"
     ]
    }
   ],
   "source": [
    "for user in users:\n",
    "    print(f\"This is {user}  user\")"
   ]
  },
  {
   "cell_type": "code",
   "execution_count": 96,
   "id": "b5ff79fc-d7bf-4bf7-9040-6f9581dac4f6",
   "metadata": {},
   "outputs": [
    {
     "name": "stdout",
     "output_type": "stream",
     "text": [
      "This is an odd number 1\n",
      "This is an even number 2\n",
      "This is an odd number 3\n",
      "This is an even number 4\n",
      "This is an odd number 5\n",
      "This is an even number 6\n",
      "This is an odd number 7\n",
      "This is an even number 8\n",
      "This is an odd number 9\n",
      "This is an even number 10\n",
      "This is an odd number 11\n",
      "This is an even number 12\n",
      "This is an odd number 13\n",
      "This is an even number 14\n",
      "This is an odd number 15\n"
     ]
    }
   ],
   "source": [
    "list_1 = [1,2,3,4,5,6,7,8,9,10,11,12,13,14,15]\n",
    "\n",
    "for number in list_1:\n",
    "    if number % 2 == 0:\n",
    "        #print(number)\n",
    "        print(f\"This is an even number {number}\")\n",
    "    else:\n",
    "        print(f\"This is an odd number {number}\")"
   ]
  },
  {
   "cell_type": "code",
   "execution_count": 103,
   "id": "accc7a98-09d1-4ee9-90d8-f640158d21dd",
   "metadata": {},
   "outputs": [
    {
     "name": "stdout",
     "output_type": "stream",
     "text": [
      "1\n",
      "2\n",
      "3\n",
      "4\n",
      "5\n",
      "6\n",
      "7\n",
      "8\n",
      "9\n",
      "10\n",
      "11\n",
      "12\n",
      "13\n",
      "14\n",
      "15\n"
     ]
    }
   ],
   "source": [
    "list_2 = [1,2,3,4,5,6,7,8,9,10,11,12,13,14,15]\n",
    "\n",
    "for x in list_2:\n",
    "    print(x)"
   ]
  },
  {
   "cell_type": "code",
   "execution_count": 102,
   "id": "df70c246-babb-4140-9d95-6a6f0406ef99",
   "metadata": {},
   "outputs": [
    {
     "name": "stdout",
     "output_type": "stream",
     "text": [
      "1\n",
      "2\n",
      "3\n",
      "4\n",
      "5\n",
      "6\n",
      "7\n",
      "8\n",
      "9\n",
      "10\n"
     ]
    }
   ],
   "source": [
    "## in whille loop we give condition\n",
    "x = 1\n",
    "\n",
    "while x <= 10:\n",
    "    print(x)\n",
    "    x = x + 1"
   ]
  },
  {
   "cell_type": "code",
   "execution_count": 104,
   "id": "3f0a8af1-8377-478c-b4a0-7d46e3831463",
   "metadata": {},
   "outputs": [],
   "source": [
    "## module"
   ]
  },
  {
   "cell_type": "code",
   "execution_count": 107,
   "id": "88511455-414e-42fd-9d2d-4700b9dd64c6",
   "metadata": {},
   "outputs": [
    {
     "data": {
      "text/plain": [
       "4.0"
      ]
     },
     "execution_count": 107,
     "metadata": {},
     "output_type": "execute_result"
    }
   ],
   "source": [
    "import math\n",
    "math.pow(2,2)"
   ]
  },
  {
   "cell_type": "code",
   "execution_count": 115,
   "id": "e201a7c0-263b-460d-bbcf-31cae5b12c41",
   "metadata": {},
   "outputs": [
    {
     "name": "stdout",
     "output_type": "stream",
     "text": [
      "Hello Ravi\n",
      "Hello Pooja\n",
      "Hello Vijay\n",
      "Hello Kiran\n"
     ]
    }
   ],
   "source": [
    "names = [\"Ravi\", \"Pooja\", \"Vijay\", \"Kiran\"]\n",
    "for name in names:\n",
    "    print(f\"Hello {name}\")"
   ]
  },
  {
   "cell_type": "code",
   "execution_count": 117,
   "id": "32f4e803-5c41-4eda-b3db-5a22e6797dc7",
   "metadata": {},
   "outputs": [
    {
     "data": {
      "text/plain": [
       "['Hello Ravi', 'Hello Pooja', 'Hello Vijay', 'Hello Kiran']"
      ]
     },
     "execution_count": 117,
     "metadata": {},
     "output_type": "execute_result"
    }
   ],
   "source": [
    "new_list = []\n",
    "for name in names:\n",
    "    new_list.append(\"Hello \" + name)\n",
    "new_list"
   ]
  },
  {
   "cell_type": "code",
   "execution_count": null,
   "id": "415b0356-91c4-4ecf-818c-96b7196712a8",
   "metadata": {},
   "outputs": [],
   "source": [
    "## In one step with list comprehension"
   ]
  },
  {
   "cell_type": "code",
   "execution_count": 114,
   "id": "2bb43226-3390-46b6-be1b-31bfd4974d74",
   "metadata": {},
   "outputs": [
    {
     "name": "stdout",
     "output_type": "stream",
     "text": [
      "['Hello Ravi', 'Hello Pooja', 'Hello Vijay', 'Hello Kiran']\n"
     ]
    }
   ],
   "source": [
    "names = [\"Ravi\", \"Pooja\", \"Vijay\", \"Kiran\"]\n",
    "hello = [\"Hello \" + name for name in names]\n",
    "print(hello)"
   ]
  },
  {
   "cell_type": "code",
   "execution_count": 126,
   "id": "f8c1d9c9-baa0-4b1f-8536-d9a25dc187dd",
   "metadata": {},
   "outputs": [
    {
     "name": "stdout",
     "output_type": "stream",
     "text": [
      "[22, 44]\n",
      "[43, 23, 55, 23, 77]\n"
     ]
    }
   ],
   "source": [
    "numbers = [22,43,23,55,44,23,77,]\n",
    "even = [num for num in numbers if num % 2 == 0]\n",
    "print(even)\n",
    "\n",
    "odd = [num for num in numbers if num % 2 == 1]\n",
    "print(odd)"
   ]
  },
  {
   "cell_type": "code",
   "execution_count": 128,
   "id": "d5d4b738-9abc-4403-8e24-c86ef6c2a94b",
   "metadata": {},
   "outputs": [
    {
     "name": "stdout",
     "output_type": "stream",
     "text": [
      "[0, 1, 4]\n"
     ]
    }
   ],
   "source": [
    "ls = [x**2 for x in range(3)]\n",
    "print(ls)"
   ]
  },
  {
   "cell_type": "code",
   "execution_count": 121,
   "id": "7288190d-d0ce-4a0a-9660-dfb623c2af41",
   "metadata": {},
   "outputs": [],
   "source": [
    "# Exception Handling"
   ]
  },
  {
   "cell_type": "code",
   "execution_count": 122,
   "id": "1a90eddd-e0e1-4725-a2a7-ec9270843c55",
   "metadata": {},
   "outputs": [
    {
     "name": "stdout",
     "output_type": "stream",
     "text": [
      "Devided by zero\n",
      "Executed when exception occur\n",
      "Finally block, Always executed\n"
     ]
    }
   ],
   "source": [
    "try:\n",
    "    x = 1 / 0\n",
    "except ZeroDivisionError:\n",
    "    print(\"Devided by zero\")\n",
    "    print(\"Executed when exception occur\")\n",
    "else:\n",
    "    print(\"Executed only when exception does not occur\")\n",
    "finally:\n",
    "    print(\"Finally block, Always executed\")"
   ]
  },
  {
   "cell_type": "code",
   "execution_count": 124,
   "id": "10e983f7-e0ce-4049-88e4-a62225a08a6d",
   "metadata": {},
   "outputs": [
    {
     "name": "stdout",
     "output_type": "stream",
     "text": [
      "Devided by zero\n",
      "Executed when exception occur\n"
     ]
    }
   ],
   "source": [
    "try:\n",
    "    x = 1 / 0\n",
    "except ZeroDivisionError:\n",
    "    print(\"Devided by zero\")\n",
    "    print(\"Executed when exception occur\")"
   ]
  },
  {
   "cell_type": "code",
   "execution_count": 125,
   "id": "9c34ff17-7ffd-4035-83b8-6a1fd7fe83df",
   "metadata": {},
   "outputs": [
    {
     "name": "stdout",
     "output_type": "stream",
     "text": [
      "Hello World\n",
      "Exception Occured\n",
      "Bye World\n"
     ]
    }
   ],
   "source": [
    "print(\"Hello World\")\n",
    "\n",
    "try:\n",
    "    1/0\n",
    "except ZeroDivisionError:\n",
    "    print(\"Exception Occured\")\n",
    "\n",
    "print(\"Bye World\")"
   ]
  },
  {
   "cell_type": "code",
   "execution_count": 129,
   "id": "f8c57134-f0b5-4855-b963-f1b0701e88b0",
   "metadata": {},
   "outputs": [
    {
     "name": "stdout",
     "output_type": "stream",
     "text": [
      "Executed when exception occur\n"
     ]
    }
   ],
   "source": [
    "try:\n",
    "    10 / 0\n",
    "except:\n",
    "    print(\"Executed when exception occur\")"
   ]
  },
  {
   "cell_type": "code",
   "execution_count": 130,
   "id": "a3820629-0cc4-49a8-9766-613682a4edf7",
   "metadata": {},
   "outputs": [],
   "source": [
    "## working with file"
   ]
  },
  {
   "cell_type": "code",
   "execution_count": 133,
   "id": "a1155722-c37c-4214-b7cf-11aef4b6b5c7",
   "metadata": {},
   "outputs": [],
   "source": [
    "### write in new file \n",
    "with open(\"myfile.txt\", 'w') as f:\n",
    "    f.write(\"This is the first line \\n\")\n",
    "    f.write(\"This is the second line \\n\")"
   ]
  },
  {
   "cell_type": "code",
   "execution_count": 134,
   "id": "e5cdf93c-8b5f-4e51-aab4-353829bb0591",
   "metadata": {},
   "outputs": [],
   "source": [
    "### append in file\n",
    "with open(\"myfile.txt\", 'a') as f:\n",
    "    f.write(\"This is the last line \\n\")\n"
   ]
  },
  {
   "cell_type": "code",
   "execution_count": 137,
   "id": "68453205-030b-4480-a70d-40a169791032",
   "metadata": {},
   "outputs": [
    {
     "name": "stdout",
     "output_type": "stream",
     "text": [
      "This is the first line \n",
      "\n",
      "This is the second line \n",
      "\n",
      "This is the last line \n",
      "\n"
     ]
    }
   ],
   "source": [
    "### read the file\n",
    "with open(\"myfile.txt\", 'r') as f:\n",
    "    for line in f:\n",
    "        print(line)"
   ]
  },
  {
   "cell_type": "code",
   "execution_count": 138,
   "id": "307b00ec-0c03-42c1-a391-c377d6396ca3",
   "metadata": {},
   "outputs": [],
   "source": [
    "# Functions"
   ]
  },
  {
   "cell_type": "code",
   "execution_count": 139,
   "id": "6ef3be67-7bf0-4bbf-a062-34a2a2bc3ead",
   "metadata": {},
   "outputs": [
    {
     "name": "stdout",
     "output_type": "stream",
     "text": [
      "Hello\n"
     ]
    }
   ],
   "source": [
    "def say_hello():\n",
    "    print(\"Hello\")\n",
    "\n",
    "say_hello()"
   ]
  },
  {
   "cell_type": "code",
   "execution_count": 140,
   "id": "2123196c-ae6c-4199-8e18-a84cdee4b420",
   "metadata": {},
   "outputs": [
    {
     "name": "stdout",
     "output_type": "stream",
     "text": [
      "10\n"
     ]
    }
   ],
   "source": [
    "def add(first, second):\n",
    "    print(first + second)\n",
    "add(4,6)"
   ]
  },
  {
   "cell_type": "code",
   "execution_count": 142,
   "id": "0eb2fe49-9573-4e7b-a95a-2a08a4d63109",
   "metadata": {},
   "outputs": [
    {
     "name": "stdout",
     "output_type": "stream",
     "text": [
      "8\n"
     ]
    }
   ],
   "source": [
    "## default arguments\n",
    "def mul(first, second=2):\n",
    "    print(first * second)\n",
    "mul(4)"
   ]
  },
  {
   "cell_type": "code",
   "execution_count": 148,
   "id": "10cefe21-f640-42a3-972e-00a7c770f6eb",
   "metadata": {},
   "outputs": [
    {
     "name": "stdout",
     "output_type": "stream",
     "text": [
      "6\n"
     ]
    }
   ],
   "source": [
    "mul(3)"
   ]
  },
  {
   "cell_type": "code",
   "execution_count": 145,
   "id": "796d52a7-8129-4a6f-8297-2d4956fdfcdf",
   "metadata": {},
   "outputs": [
    {
     "data": {
      "text/plain": [
       "8"
      ]
     },
     "execution_count": 145,
     "metadata": {},
     "output_type": "execute_result"
    }
   ],
   "source": [
    "def double_num(num = 4):\n",
    "    return num * 2\n",
    "double_num()"
   ]
  },
  {
   "cell_type": "code",
   "execution_count": 146,
   "id": "a8e6b0a8-4f8d-4177-aa3f-9f9bb7a3f7fb",
   "metadata": {},
   "outputs": [
    {
     "data": {
      "text/plain": [
       "12"
      ]
     },
     "execution_count": 146,
     "metadata": {},
     "output_type": "execute_result"
    }
   ],
   "source": [
    "double_num(6)"
   ]
  },
  {
   "cell_type": "code",
   "execution_count": null,
   "id": "24c6609b-c99a-4628-9c22-832a18859f22",
   "metadata": {},
   "outputs": [],
   "source": [
    "## concept of args"
   ]
  },
  {
   "cell_type": "code",
   "execution_count": 149,
   "id": "1c21c033-76aa-48be-a45d-5fcca6cd857d",
   "metadata": {},
   "outputs": [],
   "source": [
    "def database_column(*args):\n",
    "    for arg in args:\n",
    "        print(arg)"
   ]
  },
  {
   "cell_type": "code",
   "execution_count": 150,
   "id": "52bc1069-75e9-4346-a633-29de3957aeff",
   "metadata": {},
   "outputs": [
    {
     "name": "stdout",
     "output_type": "stream",
     "text": [
      "name\n",
      "Surname\n",
      "Salary\n",
      "Age\n"
     ]
    }
   ],
   "source": [
    "database_column(\"name\", \"Surname\", \"Salary\", \"Age\")"
   ]
  },
  {
   "cell_type": "code",
   "execution_count": 156,
   "id": "6f9d333b-300f-499a-a044-7ec1c05a35c8",
   "metadata": {},
   "outputs": [],
   "source": [
    "def database_columns(**kwargs):\n",
    "    for value in kwargs.items():\n",
    "        print(value)"
   ]
  },
  {
   "cell_type": "code",
   "execution_count": 157,
   "id": "ac88d1c8-8d81-480a-85a6-aae3f1d227e9",
   "metadata": {},
   "outputs": [
    {
     "name": "stdout",
     "output_type": "stream",
     "text": [
      "('name', 'Rio')\n",
      "('Surname', 'Sang')\n"
     ]
    }
   ],
   "source": [
    "database_columns(name=\"Rio\", Surname=\"Sang\")"
   ]
  },
  {
   "cell_type": "code",
   "execution_count": 158,
   "id": "c1709273-cff1-4e47-abe7-81e05cfbc667",
   "metadata": {},
   "outputs": [],
   "source": [
    "def my_name(name):\n",
    "    return name"
   ]
  },
  {
   "cell_type": "code",
   "execution_count": 159,
   "id": "1f91570c-6f40-415d-9f9c-014dbd5164c3",
   "metadata": {},
   "outputs": [
    {
     "data": {
      "text/plain": [
       "'Namya'"
      ]
     },
     "execution_count": 159,
     "metadata": {},
     "output_type": "execute_result"
    }
   ],
   "source": [
    "my_name(\"Namya\")"
   ]
  },
  {
   "cell_type": "code",
   "execution_count": 161,
   "id": "db282036-a897-44ce-821b-c59855879fcb",
   "metadata": {},
   "outputs": [],
   "source": [
    "naam = my_name(\"Nio\")"
   ]
  },
  {
   "cell_type": "code",
   "execution_count": 162,
   "id": "e3dd77e1-f19b-4d81-b171-b8f5f8163e4d",
   "metadata": {},
   "outputs": [
    {
     "data": {
      "text/plain": [
       "'Nio'"
      ]
     },
     "execution_count": 162,
     "metadata": {},
     "output_type": "execute_result"
    }
   ],
   "source": [
    "naam"
   ]
  },
  {
   "cell_type": "code",
   "execution_count": 163,
   "id": "448d4ab1-ead7-46dc-849c-a4b14ea467df",
   "metadata": {},
   "outputs": [],
   "source": [
    "### lambda function\n",
    "square_lambda = lambda num : num ** 2"
   ]
  },
  {
   "cell_type": "code",
   "execution_count": 164,
   "id": "62dfd89c-b008-4073-be4d-a80c4e133913",
   "metadata": {},
   "outputs": [
    {
     "data": {
      "text/plain": [
       "9"
      ]
     },
     "execution_count": 164,
     "metadata": {},
     "output_type": "execute_result"
    }
   ],
   "source": [
    "square_lambda(3)"
   ]
  },
  {
   "cell_type": "code",
   "execution_count": null,
   "id": "ee67bf3a-51e9-4b81-8a3f-82833f9a3cd0",
   "metadata": {},
   "outputs": [],
   "source": [
    "#OOPS"
   ]
  },
  {
   "cell_type": "code",
   "execution_count": 169,
   "id": "84af58ad-7f60-4721-873a-da5fe107510e",
   "metadata": {},
   "outputs": [],
   "source": [
    "s = \"my name is Rio\""
   ]
  },
  {
   "cell_type": "code",
   "execution_count": 170,
   "id": "1e6b826b-c89a-4713-a075-427f7e99d71f",
   "metadata": {},
   "outputs": [
    {
     "data": {
      "text/plain": [
       "'MY NAME IS RIO'"
      ]
     },
     "execution_count": 170,
     "metadata": {},
     "output_type": "execute_result"
    }
   ],
   "source": [
    "s.upper()"
   ]
  },
  {
   "cell_type": "code",
   "execution_count": 171,
   "id": "571c244a-5b22-4b0d-869e-bd8ec59dcd78",
   "metadata": {},
   "outputs": [
    {
     "data": {
      "text/plain": [
       "str"
      ]
     },
     "execution_count": 171,
     "metadata": {},
     "output_type": "execute_result"
    }
   ],
   "source": [
    "type(s)"
   ]
  },
  {
   "cell_type": "code",
   "execution_count": 173,
   "id": "15cd3328-4abe-4f31-a671-9cbf352eb82b",
   "metadata": {},
   "outputs": [
    {
     "name": "stdout",
     "output_type": "stream",
     "text": [
      "<class 'int'>\n",
      "<class 'list'>\n",
      "<class 'tuple'>\n",
      "<class 'dict'>\n"
     ]
    }
   ],
   "source": [
    "print(type(1))\n",
    "print(type([]))\n",
    "print(type(()))\n",
    "print(type({}))"
   ]
  },
  {
   "cell_type": "code",
   "execution_count": 175,
   "id": "c4c2ecca-8829-43e4-b343-c955b82cbdf2",
   "metadata": {},
   "outputs": [
    {
     "name": "stdout",
     "output_type": "stream",
     "text": [
      "<class '__main__.Sample'>\n"
     ]
    }
   ],
   "source": [
    "class Sample():\n",
    "    pass\n",
    "# Instance of sample\n",
    "x = Sample()\n",
    "\n",
    "print(type(x))  # object of sample class"
   ]
  },
  {
   "cell_type": "code",
   "execution_count": 179,
   "id": "d4bc6983-f52c-4374-b0b4-556b1a8ab89e",
   "metadata": {},
   "outputs": [],
   "source": [
    "class Dog(object):\n",
    "    def __init__ (self, breed):\n",
    "        self.breed = breed\n",
    "sam = Dog(breed = \"Lab\")\n",
    "nam = Dog(breed = \"Huskie\")"
   ]
  },
  {
   "cell_type": "code",
   "execution_count": 180,
   "id": "725a1366-edfd-4a43-acae-9b659be314d8",
   "metadata": {},
   "outputs": [
    {
     "data": {
      "text/plain": [
       "'Lab'"
      ]
     },
     "execution_count": 180,
     "metadata": {},
     "output_type": "execute_result"
    }
   ],
   "source": [
    "sam.breed"
   ]
  },
  {
   "cell_type": "code",
   "execution_count": 181,
   "id": "78e22611-2e3a-47a6-a9d0-46ccb2cbd3dd",
   "metadata": {},
   "outputs": [
    {
     "data": {
      "text/plain": [
       "'Huskie'"
      ]
     },
     "execution_count": 181,
     "metadata": {},
     "output_type": "execute_result"
    }
   ],
   "source": [
    "nam.breed"
   ]
  },
  {
   "cell_type": "code",
   "execution_count": 197,
   "id": "6ab27a79-cef8-4729-90c9-255b3e6931dd",
   "metadata": {},
   "outputs": [
    {
     "name": "stdout",
     "output_type": "stream",
     "text": [
      "Area is  50.24\n"
     ]
    }
   ],
   "source": [
    "class Circle(object):\n",
    "    pi = 3.14\n",
    "    \n",
    "    def __init__(self, radius=1):\n",
    "        self.radius = radius\n",
    "\n",
    "    def area(self):\n",
    "        return self.radius * self.radius * Circle.pi\n",
    "\n",
    "c = Circle(4)\n",
    "print(\"Area is \", c.area())\n",
    "    "
   ]
  },
  {
   "cell_type": "code",
   "execution_count": 198,
   "id": "1a88bb25-d665-48f3-910e-232d09ee8e0d",
   "metadata": {},
   "outputs": [],
   "source": [
    "class Student: \n",
    "    #class variable\n",
    "    school_name = 'ABC School'\n",
    "\n",
    "    #constructor\n",
    "    def __init__(self, name, age):\n",
    "        #incetance varaible\n",
    "        self.name = name\n",
    "        self.age = age\n",
    "\n",
    "    #incetance variable\n",
    "    def show(self):\n",
    "        print(self.name, self.age, Student.school_name)\n",
    "\n",
    "    @classmethod\n",
    "    def change_school(cls, name):\n",
    "        cls.school_name = name\n",
    "\n",
    "    @staticmethod\n",
    "    def find_notes(subject_name):\n",
    "        return['chapter 1', 'chapter 2', 'chapter 3']"
   ]
  },
  {
   "cell_type": "code",
   "execution_count": 199,
   "id": "22a64e1a-911f-4ece-b238-819ecf79f587",
   "metadata": {},
   "outputs": [],
   "source": [
    "rio = Student(\"Rio\", 22)"
   ]
  },
  {
   "cell_type": "code",
   "execution_count": 200,
   "id": "ef62be6d-c207-416e-a654-1d2afa6c52b8",
   "metadata": {},
   "outputs": [
    {
     "name": "stdout",
     "output_type": "stream",
     "text": [
      "Rio 22 ABC School\n"
     ]
    }
   ],
   "source": [
    "rio.show()"
   ]
  },
  {
   "cell_type": "code",
   "execution_count": null,
   "id": "8c8455e1-4fb1-4d3e-9381-aa3363a0342d",
   "metadata": {},
   "outputs": [],
   "source": []
  }
 ],
 "metadata": {
  "kernelspec": {
   "display_name": "Python 3 (ipykernel)",
   "language": "python",
   "name": "python3"
  },
  "language_info": {
   "codemirror_mode": {
    "name": "ipython",
    "version": 3
   },
   "file_extension": ".py",
   "mimetype": "text/x-python",
   "name": "python",
   "nbconvert_exporter": "python",
   "pygments_lexer": "ipython3",
   "version": "3.10.5"
  }
 },
 "nbformat": 4,
 "nbformat_minor": 5
}
